{
 "cells": [
  {
   "cell_type": "code",
   "execution_count": 1,
   "metadata": {},
   "outputs": [],
   "source": [
    "import json\n",
    "import requests\n",
    "import pandas as pd\n",
    "import numpy as np\n",
    "import scipy.stats as sts"
   ]
  },
  {
   "cell_type": "code",
   "execution_count": 2,
   "metadata": {},
   "outputs": [],
   "source": [
    "#films\n",
    "url_films = \"http://swapi.dev/api/films/\" \n",
    "films_response = requests.get(url_films).json()\n",
    "\n",
    "#people\n",
    "url_people = \"http://swapi.dev/api/people/\" \n",
    "people_response = requests.get(url_people).json()\n",
    "\n",
    "#planets\n",
    "url_planets = \"http://swapi.dev/api/planets/\"\n",
    "planets_response = requests.get(url_planets).json()\n",
    "\n",
    "#species\n",
    "url_species = \"http://swapi.dev/api/species/\" \n",
    "species_response = requests.get(url_species).json()\n",
    "\n",
    "#vehicles\n",
    "url_vehicles = \"http://swapi.dev/api/vehicles/\" \n",
    "vehicles_response = requests.get(url_vehicles).json()\n",
    "\n",
    "#starships\n",
    "url_starships = \"http://swapi.dev/api/starships/\"\n",
    "starships_response = requests.get(url_starships).json()"
   ]
  },
  {
   "cell_type": "code",
   "execution_count": null,
   "metadata": {},
   "outputs": [],
   "source": [
    "#vehicles pprint\n",
    "print(json.dumps(vehicles_response, indent=2, sort_keys=True))"
   ]
  },
  {
   "cell_type": "code",
   "execution_count": null,
   "metadata": {},
   "outputs": [],
   "source": [
    "print(json.dumps(vehicles_response[\"results\"], indent=2, sort_keys=True))"
   ]
  },
  {
   "cell_type": "code",
   "execution_count": 3,
   "metadata": {},
   "outputs": [
    {
     "name": "stdout",
     "output_type": "stream",
     "text": [
      "Sand Crawler\n",
      "T-16 skyhopper\n",
      "X-34 landspeeder\n",
      "TIE/LN starfighter\n",
      "Snowspeeder\n",
      "TIE bomber\n",
      "AT-AT\n",
      "AT-ST\n",
      "Storm IV Twin-Pod cloud car\n",
      "Sail barge\n",
      "Bantha-II cargo skiff\n",
      "TIE/IN interceptor\n",
      "Imperial Speeder Bike\n",
      "Vulture Droid\n",
      "Multi-Troop Transport\n",
      "Armored Assault Tank\n",
      "Single Trooper Aerial Platform\n",
      "C-9979 landing craft\n",
      "Tribubble bongo\n",
      "Sith speeder\n",
      "Zephyr-G swoop bike\n",
      "Koro-2 Exodrive airspeeder\n",
      "XJ-6 airspeeder\n",
      "LAAT/i\n",
      "LAAT/c\n",
      "AT-TE\n",
      "SPHA\n",
      "Flitknot speeder\n",
      "Neimoidian shuttle\n",
      "Geonosian starfighter\n",
      "Tsmeu-6 personal wheel bike\n",
      "Emergency Firespeeder\n",
      "Droid tri-fighter\n",
      "Oevvaor jet catamaran\n",
      "Raddaugh Gnasp fluttercraft\n",
      "Clone turbo tank\n",
      "Corporate Alliance tank droid\n",
      "Droid gunship\n",
      "AT-RT\n"
     ]
    }
   ],
   "source": [
    "vehicles_list = []\n",
    "page = [\"1\", \"2\", \"3\", \"4\"]\n",
    "url_vehicles_next = f\"http://swapi.dev/api/vehicles/?page=\"\n",
    "\n",
    "for x in page:\n",
    "    vehicles_response_next = requests.get(url_vehicles_next + x).json()\n",
    "    \n",
    "#for loop to list names\n",
    "    for vehicles in vehicles_response_next[\"results\"]:\n",
    "        vehicle_name = vehicles[\"name\"]\n",
    "        vehicles_list.append(vehicle_name)\n",
    "        print(vehicle_name)"
   ]
  },
  {
   "cell_type": "code",
   "execution_count": null,
   "metadata": {},
   "outputs": [],
   "source": [
    "print(vehicles_list)"
   ]
  },
  {
   "cell_type": "code",
   "execution_count": 4,
   "metadata": {},
   "outputs": [
    {
     "name": "stdout",
     "output_type": "stream",
     "text": [
      "There are 39 vehicles in this API.\n"
     ]
    }
   ],
   "source": [
    "# count vehicles in list\n",
    "vehicles_count = vehicles_response[\"count\"]\n",
    "print(f\"There are {vehicles_count} vehicles in this API.\")"
   ]
  },
  {
   "cell_type": "code",
   "execution_count": 5,
   "metadata": {},
   "outputs": [
    {
     "name": "stdout",
     "output_type": "stream",
     "text": [
      "Sand Crawler found! Appending stats\n",
      "T-16 skyhopper found! Appending stats\n",
      "X-34 landspeeder found! Appending stats\n",
      "TIE/LN starfighter found! Appending stats\n",
      "Snowspeeder found! Appending stats\n",
      "TIE bomber found! Appending stats\n",
      "AT-AT found! Appending stats\n",
      "AT-ST found! Appending stats\n",
      "Storm IV Twin-Pod cloud car found! Appending stats\n",
      "Sail barge found! Appending stats\n",
      "Bantha-II cargo skiff found! Appending stats\n",
      "TIE/IN interceptor found! Appending stats\n",
      "Imperial Speeder Bike found! Appending stats\n",
      "Vulture Droid found! Appending stats\n",
      "Multi-Troop Transport found! Appending stats\n",
      "Armored Assault Tank found! Appending stats\n",
      "Single Trooper Aerial Platform found! Appending stats\n",
      "C-9979 landing craft found! Appending stats\n",
      "Tribubble bongo found! Appending stats\n",
      "Sith speeder found! Appending stats\n",
      "Zephyr-G swoop bike found! Appending stats\n",
      "Koro-2 Exodrive airspeeder found! Appending stats\n",
      "XJ-6 airspeeder found! Appending stats\n",
      "LAAT/i found! Appending stats\n",
      "LAAT/c found! Appending stats\n",
      "AT-TE found! Appending stats\n",
      "SPHA found! Appending stats\n",
      "Flitknot speeder found! Appending stats\n",
      "Neimoidian shuttle found! Appending stats\n",
      "Geonosian starfighter found! Appending stats\n",
      "Tsmeu-6 personal wheel bike found! Appending stats\n",
      "Emergency Firespeeder found! Appending stats\n",
      "Droid tri-fighter found! Appending stats\n",
      "Oevvaor jet catamaran found! Appending stats\n",
      "Raddaugh Gnasp fluttercraft found! Appending stats\n",
      "Clone turbo tank found! Appending stats\n",
      "Corporate Alliance tank droid found! Appending stats\n",
      "Droid gunship found! Appending stats\n",
      "AT-RT found! Appending stats\n"
     ]
    }
   ],
   "source": [
    "## Set url for API\n",
    "url_vehicles = 'https://swapi.dev/api/vehicles/?search='\n",
    "\n",
    "search_vehicles = vehicles_list\n",
    "\n",
    "# Set empty lists to hold vehicle's stats\n",
    "length = []\n",
    "max_atmosphering_speed = []\n",
    "cargo_capacity = []\n",
    "cost_in_credits = []\n",
    "starwars_vehicles = []\n",
    "\n",
    "# Loop through each character and make API request\n",
    "for vehicles in search_vehicles:\n",
    "    \n",
    "    # Create search query, make request and store in json\n",
    "    query = url_vehicles + vehicles\n",
    "    response = requests.get(query)\n",
    "    response_json = response.json()\n",
    "    \n",
    "    \n",
    "    # stats of vehicles \n",
    "    try:\n",
    "        length.append(response_json['results'][0]['length'])\n",
    "        max_atmosphering_speed.append(response_json['results'][0]['max_atmosphering_speed'])\n",
    "        cargo_capacity.append(response_json['results'][0]['cargo_capacity'])\n",
    "        cost_in_credits.append(response_json['results'][0]['cost_in_credits'])\n",
    "        starwars_vehicles.append(vehicles)\n",
    "        print(f\"{vehicles} found! Appending stats\")\n",
    "        \n",
    "   \n",
    "    # exceptions for vehicles not available in the Star Wars API\n",
    "    except: \n",
    "        print(f\"{vehicles} not found\")\n",
    "        pass"
   ]
  },
  {
   "cell_type": "code",
   "execution_count": 6,
   "metadata": {},
   "outputs": [
    {
     "name": "stdout",
     "output_type": "stream",
     "text": [
      "                           Vehicle   Length Max Atmosphering Speed  \\\n",
      "0                     Sand Crawler    36.8                      30   \n",
      "1                   T-16 skyhopper    10.4                    1200   \n",
      "2                 X-34 landspeeder     3.4                     250   \n",
      "3               TIE/LN starfighter      6.4                   1200   \n",
      "4                      Snowspeeder      4.5                    650   \n",
      "5                       TIE bomber      7.8                    850   \n",
      "6                            AT-AT       20                     60   \n",
      "7                            AT-ST        2                     90   \n",
      "8      Storm IV Twin-Pod cloud car        7                   1500   \n",
      "9                       Sail barge       30                    100   \n",
      "10           Bantha-II cargo skiff      9.5                    250   \n",
      "11              TIE/IN interceptor      9.6                   1250   \n",
      "12           Imperial Speeder Bike        3                    360   \n",
      "13                   Vulture Droid      3.5                   1200   \n",
      "14           Multi-Troop Transport       31                     35   \n",
      "15            Armored Assault Tank     9.75                     55   \n",
      "16  Single Trooper Aerial Platform        2                    400   \n",
      "17            C-9979 landing craft      210                    587   \n",
      "18                 Tribubble bongo       15                     85   \n",
      "19                    Sith speeder      1.5                    180   \n",
      "20             Zephyr-G swoop bike     3.68                    350   \n",
      "21      Koro-2 Exodrive airspeeder      6.6                    800   \n",
      "22                 XJ-6 airspeeder     6.23                    720   \n",
      "23                          LAAT/i     17.4                    620   \n",
      "24                          LAAT/c    28.82                    620   \n",
      "25                           AT-TE     13.2                     60   \n",
      "26                            SPHA      140                     35   \n",
      "27                Flitknot speeder        2                    634   \n",
      "28              Neimoidian shuttle       20                    880   \n",
      "29           Geonosian starfighter      9.8                  20000   \n",
      "30     Tsmeu-6 personal wheel bike      3.5                    330   \n",
      "31           Emergency Firespeeder  unknown                unknown   \n",
      "32               Droid tri-fighter      5.4                   1180   \n",
      "33           Oevvaor jet catamaran     15.1                    420   \n",
      "34     Raddaugh Gnasp fluttercraft        7                    310   \n",
      "35                Clone turbo tank     49.4                    160   \n",
      "36   Corporate Alliance tank droid    10.96                    100   \n",
      "37                   Droid gunship     12.3                    820   \n",
      "38                           AT-RT      3.2                     90   \n",
      "\n",
      "   Cargo Capacity Cost in Credits  \n",
      "0           50000          150000  \n",
      "1              50           14500  \n",
      "2               5           10550  \n",
      "3              65         unknown  \n",
      "4              10         unknown  \n",
      "5            none         unknown  \n",
      "6            1000         unknown  \n",
      "7             200         unknown  \n",
      "8              10           75000  \n",
      "9         2000000          285000  \n",
      "10         135000            8000  \n",
      "11             75         unknown  \n",
      "12              4            8000  \n",
      "13              0         unknown  \n",
      "14          12000          138000  \n",
      "15        unknown         unknown  \n",
      "16           none            2500  \n",
      "17        1800000          200000  \n",
      "18           1600         unknown  \n",
      "19              2            4000  \n",
      "20            200            5750  \n",
      "21             80         unknown  \n",
      "22        unknown         unknown  \n",
      "23            170         unknown  \n",
      "24          40000         unknown  \n",
      "25          10000         unknown  \n",
      "26            500         unknown  \n",
      "27        unknown            8000  \n",
      "28           1000         unknown  \n",
      "29        unknown         unknown  \n",
      "30             10           15000  \n",
      "31        unknown         unknown  \n",
      "32              0           20000  \n",
      "33             50           12125  \n",
      "34             20           14750  \n",
      "35          30000          350000  \n",
      "36           none           49000  \n",
      "37              0           60000  \n",
      "38             20           40000  \n"
     ]
    }
   ],
   "source": [
    "#create new dataframe for all characters found\n",
    "vehicles_df = pd.DataFrame({\"Vehicle\": search_vehicles,\n",
    "                            \"Length\": length,\n",
    "                            \"Max Atmosphering Speed\": max_atmosphering_speed,\n",
    "                            \"Cargo Capacity\": cargo_capacity,\n",
    "                            \"Cost in Credits\": cost_in_credits})\n",
    "print(vehicles_df)"
   ]
  },
  {
   "cell_type": "code",
   "execution_count": 7,
   "metadata": {},
   "outputs": [
    {
     "name": "stdout",
     "output_type": "stream",
     "text": [
      "                           Vehicle Length Max Atmosphering Speed  \\\n",
      "0                     Sand Crawler  36.8                      30   \n",
      "1                   T-16 skyhopper  10.4                    1200   \n",
      "2                 X-34 landspeeder   3.4                     250   \n",
      "8      Storm IV Twin-Pod cloud car      7                   1500   \n",
      "9                       Sail barge     30                    100   \n",
      "10           Bantha-II cargo skiff    9.5                    250   \n",
      "12           Imperial Speeder Bike      3                    360   \n",
      "14           Multi-Troop Transport     31                     35   \n",
      "16  Single Trooper Aerial Platform      2                    400   \n",
      "17            C-9979 landing craft    210                    587   \n",
      "19                    Sith speeder    1.5                    180   \n",
      "20             Zephyr-G swoop bike   3.68                    350   \n",
      "27                Flitknot speeder      2                    634   \n",
      "30     Tsmeu-6 personal wheel bike    3.5                    330   \n",
      "32               Droid tri-fighter    5.4                   1180   \n",
      "33           Oevvaor jet catamaran   15.1                    420   \n",
      "34     Raddaugh Gnasp fluttercraft      7                    310   \n",
      "35                Clone turbo tank   49.4                    160   \n",
      "36   Corporate Alliance tank droid  10.96                    100   \n",
      "37                   Droid gunship   12.3                    820   \n",
      "38                           AT-RT    3.2                     90   \n",
      "\n",
      "   Cargo Capacity Cost in Credits  \n",
      "0           50000          150000  \n",
      "1              50           14500  \n",
      "2               5           10550  \n",
      "8              10           75000  \n",
      "9         2000000          285000  \n",
      "10         135000            8000  \n",
      "12              4            8000  \n",
      "14          12000          138000  \n",
      "16           none            2500  \n",
      "17        1800000          200000  \n",
      "19              2            4000  \n",
      "20            200            5750  \n",
      "27        unknown            8000  \n",
      "30             10           15000  \n",
      "32              0           20000  \n",
      "33             50           12125  \n",
      "34             20           14750  \n",
      "35          30000          350000  \n",
      "36           none           49000  \n",
      "37              0           60000  \n",
      "38             20           40000  \n"
     ]
    }
   ],
   "source": [
    "#drop vehicles that don't have stats listed and create new dataframe (for tracking purposes)\n",
    "clean_vehicles_df = vehicles_df.drop(vehicles_df[vehicles_df['Length'] == 'unknown'].index) \n",
    "clean_vehicles_df = vehicles_df.drop(vehicles_df[vehicles_df['Max Atmosphering Speed'] == 'unknown'].index) \n",
    "clean_vehicles_df = vehicles_df.drop(vehicles_df[vehicles_df['Cargo Capacity'] == 'unknown'].index) \n",
    "clean_vehicles_df = vehicles_df.drop(vehicles_df[vehicles_df['Cost in Credits'] == 'unknown'].index) \n",
    "\n",
    "print(clean_vehicles_df)"
   ]
  },
  {
   "cell_type": "code",
   "execution_count": null,
   "metadata": {},
   "outputs": [],
   "source": [
    "#reset index to new vehicle count after dropping unknowns\n",
    "clean_vehicles_df = clean_vehicles_df.reset_index(drop=True)\n",
    "clean_vehicles_df.iloc[[14],[2]]=1358\n",
    "clean_vehicles_df.iloc[[14],[0]]=\"Jabba The Hutt\"\n",
    "clean_vehicles_df"
   ]
  },
  {
   "cell_type": "code",
   "execution_count": null,
   "metadata": {},
   "outputs": [],
   "source": [
    "# Stats Dataframes by ascending order\n",
    "#length\n",
    "length_df = clean_vehicles_df.sort_values(\"Length\", ascending=True)\n",
    "print(length_df)\n",
    "#Max Atmosphering Speed \n",
    "max_atmosphering_speed_df = clean_vehicles_df.sort_values(\"Max Atmosphering Speed\", ascending=True)\n",
    "print(max_atmosphering_speed_df)"
   ]
  },
  {
   "cell_type": "code",
   "execution_count": null,
   "metadata": {},
   "outputs": [],
   "source": []
  },
  {
   "cell_type": "code",
   "execution_count": null,
   "metadata": {},
   "outputs": [],
   "source": [
    "tick_locations = [value for value in clean_characters_df[\"Character\"]]\n",
    "labels = clean_characters_df[\"Character\"]\n",
    "plt.figure(figsize=(20, 10))\n",
    "plt.bar(height_df[\"Character\"], height_df[\"Height\"])\n",
    "plt.xticks(tick_locations, labels, rotation=\"vertical\")\n",
    "plt.title(\"Star Wars (Relative) Character Heights\")"
   ]
  },
  {
   "cell_type": "code",
   "execution_count": null,
   "metadata": {},
   "outputs": [],
   "source": [
    "plt.hist(clean_characters_df[\"Height\"])\n",
    "plt.title(\"Star Wars Character Height Distribution\")\n",
    "plt.xlabel(\"Character Height (arbitratry units)\")\n",
    "plt.ylabel(\"Counts\")\n",
    "print(sts.normaltest(clean_characters_df[\"Height\"].sample(21)))\n",
    "sd_numpy = np.std(clean_characters_df[\"Height\"],ddof = 0)\n",
    "print(f\"The population standard deviation using the NumPy module is {sd_numpy}\")\n",
    "var_numpy = np.var(clean_characters_df[\"Height\"],ddof = 0)\n",
    "print(f\"The population variance using the NumPy module is {var_numpy}\")\n",
    "# Calculate the 68-95-99.7 rule using the standard deviation\n",
    "mean_numpy = np.mean(clean_characters_df[\"Height\"])\n",
    "print(f\"The mean height of Star Wars characters is {mean_numpy}\")\n",
    "print(f\"Roughly 68% of the data is between {round(mean_numpy-sd_numpy,3)} and {round(mean_numpy+sd_numpy,3)}\")\n",
    "print(f\"Roughly 95% of the data is between {round(mean_numpy-2*sd_numpy,3)} and {round(mean_numpy+2*sd_numpy,3)}\")\n",
    "print(f\"Roughly 99.7% of the data is between {round(mean_numpy-3*sd_numpy,3)} and {round(mean_numpy+3*sd_numpy,3)}\")"
   ]
  },
  {
   "cell_type": "code",
   "execution_count": null,
   "metadata": {},
   "outputs": [],
   "source": [
    "tick_locations = [value for value in clean_characters_df[\"Character\"]]\n",
    "labels = clean_characters_df[\"Character\"]\n",
    "plt.figure(figsize=(20, 10))\n",
    "plt.bar(mass_df[\"Character\"], mass_df[\"Mass\"])\n",
    "plt.xticks(tick_locations, labels, rotation=\"vertical\")\n",
    "plt.title(\"Star Wars (Relative) Character Masses\")"
   ]
  },
  {
   "cell_type": "code",
   "execution_count": null,
   "metadata": {},
   "outputs": [],
   "source": [
    "#scatter plot height vs mass, ## how do I add character labels?? \n",
    "x_values = clean_characters_df[\"Height\"]\n",
    "y_values = clean_characters_df[\"Mass\"]\n",
    "plt.scatter(x_values, y_values)\n",
    "plt.grid()\n",
    "plt.title(\"Character Height vs Mass\")\n",
    "plt.xlabel(\"Character Height\")\n",
    "plt.ylabel(\"Character Mass\")"
   ]
  },
  {
   "cell_type": "code",
   "execution_count": null,
   "metadata": {},
   "outputs": [],
   "source": [
    "no_jabba_mass_df = clean_characters_df.drop([14])\n",
    "no_jabba_mass_df = no_jabba_mass_df.reset_index(drop=True)"
   ]
  },
  {
   "cell_type": "code",
   "execution_count": null,
   "metadata": {},
   "outputs": [],
   "source": [
    "x_values = no_jabba_mass_df[\"Height\"]\n",
    "y_values = no_jabba_mass_df[\"Mass\"]\n",
    "plt.scatter(x_values, y_values)\n",
    "plt.grid()\n",
    "plt.title(\"Character Height vs Mass\")\n",
    "plt.xlabel(\"Character Height\")\n",
    "plt.ylabel(\"Character Mass\")"
   ]
  },
  {
   "cell_type": "code",
   "execution_count": null,
   "metadata": {},
   "outputs": [],
   "source": [
    "plt.hist(clean_characters_df[\"Height\"])\n",
    "plt.title(\"Star Wars Character Height Distribution\")\n",
    "plt.xlabel(\"Character Height (arbitratry units)\")\n",
    "plt.ylabel(\"Counts\")\n",
    "print(sts.normaltest(clean_characters_df[\"Height\"].sample(21)))\n",
    "sd_numpy = np.std(clean_characters_df[\"Height\"],ddof = 0)\n",
    "print(f\"The population standard deviation using the NumPy module is {sd_numpy}\")\n",
    "var_numpy = np.var(clean_characters_df[\"Height\"],ddof = 0)\n",
    "print(f\"The population variance using the NumPy module is {var_numpy}\")"
   ]
  },
  {
   "cell_type": "code",
   "execution_count": null,
   "metadata": {},
   "outputs": [],
   "source": [
    "plt.hist(clean_characters_df[\"Height\"])\n",
    "plt.title(\"Star Wars Character Height Distribution\")\n",
    "plt.xlabel(\"Character Height (arbitratry units)\")\n",
    "plt.ylabel(\"Counts\")\n",
    "print(sts.normaltest(clean_characters_df[\"Height\"].sample(21)))\n",
    "sd_numpy = np.std(clean_characters_df[\"Height\"],ddof = 0)\n",
    "print(f\"The population standard deviation using the NumPy module is {sd_numpy}\")\n",
    "var_numpy = np.var(clean_characters_df[\"Height\"],ddof = 0)\n",
    "print(f\"The population variance using the NumPy module is {var_numpy}\")\n",
    "# Calculate the 68-95-99.7 rule using the standard deviation\n",
    "mean_numpy = np.mean(clean_characters_df[\"Height\"])\n",
    "print(f\"The mean height of Star Wars characters is {mean_numpy}\")\n",
    "print(f\"Roughly 68% of the data is between {round(mean_numpy-sd_numpy,3)} and {round(mean_numpy+sd_numpy,3)}\")\n",
    "print(f\"Roughly 95% of the data is between {round(mean_numpy-2*sd_numpy,3)} and {round(mean_numpy+2*sd_numpy,3)}\")\n",
    "print(f\"Roughly 99.7% of the data is between {round(mean_numpy-3*sd_numpy,3)} and {round(mean_numpy+3*sd_numpy,3)}\")"
   ]
  },
  {
   "cell_type": "code",
   "execution_count": null,
   "metadata": {},
   "outputs": [],
   "source": [
    "plt.hist(clean_characters_df[\"Mass\"])\n",
    "plt.title(\"Star Wars Character Mass Distribution\")\n",
    "plt.xlabel(\"Character Mass (arbitratry units)\")\n",
    "plt.ylabel(\"Counts\")\n",
    "print(sts.normaltest(clean_characters_df[\"Mass\"].sample(21)))\n",
    "sd_numpy = np.std(clean_characters_df[\"Mass\"],ddof = 0)\n",
    "print(f\"The population standard deviation using the NumPy module is {sd_numpy}\")\n",
    "var_numpy = np.var(clean_characters_df[\"Mass\"],ddof = 0)\n",
    "print(f\"The population variance using the NumPy module is {var_numpy}\")"
   ]
  },
  {
   "cell_type": "code",
   "execution_count": null,
   "metadata": {},
   "outputs": [],
   "source": [
    "# Calculate the 68-95-99.7 rule using the standard deviation\n",
    "mean_numpy = np.mean(clean_characters_df[\"Mass\"])\n",
    "print(f\"The mean mass of Star Wars characters is {mean_numpy}\")\n",
    "print(f\"Roughly 68% of the data is between {round(mean_numpy-sd_numpy,3)} and {round(mean_numpy+sd_numpy,3)}\")\n",
    "print(f\"Roughly 95% of the data is between {round(mean_numpy-2*sd_numpy,3)} and {round(mean_numpy+2*sd_numpy,3)}\")\n",
    "print(f\"Roughly 99.7% of the data is between {round(mean_numpy-3*sd_numpy,3)} and {round(mean_numpy+3*sd_numpy,3)}\")"
   ]
  },
  {
   "cell_type": "code",
   "execution_count": null,
   "metadata": {},
   "outputs": [],
   "source": [
    "plt.hist(no_jabba_mass_df[\"Mass\"])\n",
    "plt.title(\"Star Wars Character Mass Distribution No Jabba\")\n",
    "plt.xlabel(\"Character Mass (arbitratry units)\")\n",
    "plt.ylabel(\"Counts\")\n",
    "print(sts.normaltest(no_jabba_mass_df[\"Mass\"].sample(21)))\n",
    "sd_numpy = np.std(no_jabba_mass_df[\"Mass\"],ddof = 0)\n",
    "print(f\"The population standard deviation using the NumPy module is {sd_numpy}\")\n",
    "var_numpy = np.var(no_jabba_mass_df[\"Mass\"],ddof = 0)\n",
    "print(f\"The population variance using the NumPy module is {var_numpy}\")"
   ]
  },
  {
   "cell_type": "code",
   "execution_count": null,
   "metadata": {},
   "outputs": [],
   "source": [
    "# Calculate the 68-95-99.7 rule using the standard deviation\n",
    "mean_numpy = np.mean(no_jabba_mass_df[\"Mass\"])\n",
    "print(f\"The mean mass of Star Wars characters is {mean_numpy}\")\n",
    "print(f\"Roughly 68% of the data is between {round(mean_numpy-sd_numpy,3)} and {round(mean_numpy+sd_numpy,3)}\")\n",
    "print(f\"Roughly 95% of the data is between {round(mean_numpy-2*sd_numpy,3)} and {round(mean_numpy+2*sd_numpy,3)}\")\n",
    "print(f\"Roughly 99.7% of the data is between {round(mean_numpy-3*sd_numpy,3)} and {round(mean_numpy+3*sd_numpy,3)}\")"
   ]
  },
  {
   "cell_type": "code",
   "execution_count": null,
   "metadata": {},
   "outputs": [],
   "source": []
  }
 ],
 "metadata": {
  "kernelspec": {
   "display_name": "Python 3",
   "language": "python",
   "name": "python3"
  },
  "language_info": {
   "codemirror_mode": {
    "name": "ipython",
    "version": 3
   },
   "file_extension": ".py",
   "mimetype": "text/x-python",
   "name": "python",
   "nbconvert_exporter": "python",
   "pygments_lexer": "ipython3",
   "version": "3.8.3"
  },
  "latex_envs": {
   "LaTeX_envs_menu_present": true,
   "autoclose": false,
   "autocomplete": true,
   "bibliofile": "biblio.bib",
   "cite_by": "apalike",
   "current_citInitial": 1,
   "eqLabelWithNumbers": true,
   "eqNumInitial": 1,
   "hotkeys": {
    "equation": "Ctrl-E",
    "itemize": "Ctrl-I"
   },
   "labels_anchors": false,
   "latex_user_defs": false,
   "report_style_numbering": false,
   "user_envs_cfg": false
  }
 },
 "nbformat": 4,
 "nbformat_minor": 2
}
