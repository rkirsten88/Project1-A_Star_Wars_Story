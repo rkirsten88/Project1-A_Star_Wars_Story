{
 "cells": [
  {
   "cell_type": "code",
   "execution_count": 23,
   "outputs": [],
   "source": [
    "import json\n",
    "import requests\n",
    "import pandas as pd\n",
    "import matplotlib.pyplot as plt\n",
    "import numpy as np\n",
    "import scipy.stats as sts\n"
   ],
   "metadata": {
    "collapsed": false,
    "pycharm": {
     "name": "#%%\n",
     "is_executing": false
    }
   }
  },
  {
   "cell_type": "code",
   "execution_count": 25,
   "outputs": [
    {
     "traceback": [
      "\u001b[1;31m---------------------------------------------------------------------------\u001b[0m",
      "\u001b[1;31mTypeError\u001b[0m                                 Traceback (most recent call last)",
      "\u001b[1;32m<ipython-input-25-b9c2004a5538>\u001b[0m in \u001b[0;36m<module>\u001b[1;34m\u001b[0m\n\u001b[0;32m      6\u001b[0m     \u001b[1;32mfor\u001b[0m \u001b[0mx\u001b[0m \u001b[1;32min\u001b[0m \u001b[0mstarshipsResponse\u001b[0m\u001b[1;33m:\u001b[0m\u001b[1;33m\u001b[0m\u001b[0m\n\u001b[0;32m      7\u001b[0m         \u001b[0mstarships\u001b[0m\u001b[1;33m.\u001b[0m\u001b[0mappend\u001b[0m\u001b[1;33m(\u001b[0m\u001b[0mx\u001b[0m\u001b[1;33m)\u001b[0m\u001b[1;33m\u001b[0m\u001b[0m\n\u001b[1;32m----> 8\u001b[1;33m \u001b[0mprint\u001b[0m\u001b[1;33m(\u001b[0m\u001b[0mstarships\u001b[0m\u001b[1;33m,\u001b[0m \u001b[0mindent\u001b[0m\u001b[1;33m=\u001b[0m\u001b[1;36m5\u001b[0m\u001b[1;33m)\u001b[0m\u001b[1;33m\u001b[0m\u001b[0m\n\u001b[0m\u001b[0;32m      9\u001b[0m \u001b[1;33m\u001b[0m\u001b[0m\n",
      "\u001b[1;31mTypeError\u001b[0m: 'indent' is an invalid keyword argument for print()"
     ],
     "ename": "TypeError",
     "evalue": "'indent' is an invalid keyword argument for print()",
     "output_type": "error"
    }
   ],
   "source": [
    "numberOfPages = 3\n",
    "starships  = []\n",
    "for page in range(numberOfPages):\n",
    "    starshipsURL = \"http://swapi.dev/api/starships/?page=\"\n",
    "    starshipsResponse = (requests.get(starshipsURL + str(page + 1)).json())[\"results\"]\n",
    "    for x in starshipsResponse:\n",
    "        starships.append(x)\n",
    "print(starships)\n"
   ],
   "metadata": {
    "collapsed": false,
    "pycharm": {
     "name": "#%%\n",
     "is_executing": false
    }
   }
  },
  {
   "cell_type": "code",
   "execution_count": 16,
   "outputs": [
    {
     "name": "stdout",
     "text": [
      "{\n     \"name\": \"Star Destroyer\",\n     \"model\": \"Imperial I-class Star Destroyer\",\n     \"manufacturer\": \"Kuat Drive Yards\",\n     \"cost_in_credits\": \"150000000\",\n     \"length\": \"1,600\",\n     \"max_atmosphering_speed\": \"975\",\n     \"crew\": \"47,060\",\n     \"passengers\": \"n/a\",\n     \"cargo_capacity\": \"36000000\",\n     \"consumables\": \"2 years\",\n     \"hyperdrive_rating\": \"2.0\",\n     \"MGLT\": \"60\",\n     \"starship_class\": \"Star Destroyer\",\n     \"pilots\": [],\n     \"films\": [\n          \"http://swapi.dev/api/films/1/\",\n          \"http://swapi.dev/api/films/2/\",\n          \"http://swapi.dev/api/films/3/\"\n     ],\n     \"created\": \"2014-12-10T15:08:19.848000Z\",\n     \"edited\": \"2014-12-20T21:23:49.870000Z\",\n     \"url\": \"http://swapi.dev/api/starships/3/\"\n}\n"
     ],
     "output_type": "stream"
    }
   ],
   "source": [
    "starships = starshipsResponse['results']\n",
    "print(json.dumps(starships, indent=5))\n"
   ],
   "metadata": {
    "collapsed": false,
    "pycharm": {
     "name": "#%%\n",
     "is_executing": false
    }
   }
  },
  {
   "cell_type": "code",
   "execution_count": null,
   "outputs": [],
   "source": [
    "\n"
   ],
   "metadata": {
    "collapsed": false,
    "pycharm": {
     "name": "#%%\n"
    }
   }
  }
 ],
 "metadata": {
  "kernelspec": {
   "name": "python3",
   "language": "python",
   "display_name": "Python 3"
  },
  "pycharm": {
   "stem_cell": {
    "cell_type": "raw",
    "source": [],
    "metadata": {
     "collapsed": false
    }
   }
  }
 },
 "nbformat": 4,
 "nbformat_minor": 4
}